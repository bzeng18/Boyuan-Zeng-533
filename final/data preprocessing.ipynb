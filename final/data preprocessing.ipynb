{
 "cells": [
  {
   "cell_type": "code",
   "execution_count": 143,
   "id": "7e2479a8",
   "metadata": {},
   "outputs": [],
   "source": [
    "import pandas as pd\n",
    "import numpy as np"
   ]
  },
  {
   "cell_type": "code",
   "execution_count": 144,
   "id": "6799e908",
   "metadata": {},
   "outputs": [],
   "source": [
    "df1 = pd.read_excel('hw4_data.xlsx',sheet_name = 'PRICES_DATA')\n",
    "df2 = pd.read_excel('hw4_data.xlsx', sheet_name='IVV_DATA')\n",
    "prc = pd.read_csv('prices.csv')\n",
    "\n",
    "# Rename the columns\n",
    "df1 = df1.rename(columns={\n",
    "    'Dates': 'Date',\n",
    "    'IVV US Equity': 'IVV_US_Equity',\n",
    "    'IVV AU Equity': 'IVV_AU_Equity',\n",
    "    'ECRPUS 1Y Index': 'ECRPUS_1Y_Index',\n",
    "    'SPXSFRCS Index': 'SPXSFRCS_Index',\n",
    "    'FDTRFTRL Index': 'FDTRFTRL_Index',\n",
    "    'USCRWTIC Index': 'USCRWTIC_Index',\n",
    "    'XAU Curncy': 'XAU_Curncy',\n",
    "    'JPYUSD Curncy': 'JPYUSD_Curncy',\n",
    "    'DXY Curncy': 'DXY_Curncy',\n",
    "    'VIX Index': 'VIX_Index'\n",
    "})\n",
    "df2 = df2.rename(columns={\n",
    "    'Dates': 'Date'\n",
    "})\n",
    "\n",
    "prc = prc.rename(columns={\n",
    "    'Open Price': 'open',\n",
    "    'High Price': 'high',\n",
    "    'Low Price':'low',\n",
    "    'Close Price':'close'\n",
    "})\n",
    "\n",
    "\n",
    "#Calculate log return for the abosolute price\n",
    "df1['AU_log_return'] = np.log(df1['IVV_AU_Equity'] *(1/df1['IVV_AU_split'])/ df1['IVV_AU_Equity'].shift(1))\n",
    "df1['US_log_return'] = np.log(df1['IVV_US_Equity'] / df1['IVV_US_Equity'].shift(1))\n",
    "\n"
   ]
  },
  {
   "cell_type": "code",
   "execution_count": 145,
   "id": "a0712b85",
   "metadata": {},
   "outputs": [
    {
     "data": {
      "text/html": [
       "<div>\n",
       "<style scoped>\n",
       "    .dataframe tbody tr th:only-of-type {\n",
       "        vertical-align: middle;\n",
       "    }\n",
       "\n",
       "    .dataframe tbody tr th {\n",
       "        vertical-align: top;\n",
       "    }\n",
       "\n",
       "    .dataframe thead th {\n",
       "        text-align: right;\n",
       "    }\n",
       "</style>\n",
       "<table border=\"1\" class=\"dataframe\">\n",
       "  <thead>\n",
       "    <tr style=\"text-align: right;\">\n",
       "      <th></th>\n",
       "      <th>Date</th>\n",
       "      <th>IVOL_IMPLIED_FORWARD</th>\n",
       "      <th>IVOL_DELTA</th>\n",
       "    </tr>\n",
       "  </thead>\n",
       "  <tbody>\n",
       "    <tr>\n",
       "      <th>0</th>\n",
       "      <td>2020-01-02</td>\n",
       "      <td>325.6674</td>\n",
       "      <td>14.3385</td>\n",
       "    </tr>\n",
       "    <tr>\n",
       "      <th>1</th>\n",
       "      <td>2020-01-03</td>\n",
       "      <td>323.2867</td>\n",
       "      <td>14.6881</td>\n",
       "    </tr>\n",
       "    <tr>\n",
       "      <th>2</th>\n",
       "      <td>2020-01-06</td>\n",
       "      <td>323.8963</td>\n",
       "      <td>14.6475</td>\n",
       "    </tr>\n",
       "    <tr>\n",
       "      <th>3</th>\n",
       "      <td>2020-01-07</td>\n",
       "      <td>323.4212</td>\n",
       "      <td>14.6017</td>\n",
       "    </tr>\n",
       "    <tr>\n",
       "      <th>4</th>\n",
       "      <td>2020-01-08</td>\n",
       "      <td>325.2006</td>\n",
       "      <td>13.9187</td>\n",
       "    </tr>\n",
       "    <tr>\n",
       "      <th>...</th>\n",
       "      <td>...</td>\n",
       "      <td>...</td>\n",
       "      <td>...</td>\n",
       "    </tr>\n",
       "    <tr>\n",
       "      <th>820</th>\n",
       "      <td>2023-04-05</td>\n",
       "      <td>427.3373</td>\n",
       "      <td>17.8246</td>\n",
       "    </tr>\n",
       "    <tr>\n",
       "      <th>821</th>\n",
       "      <td>2023-04-06</td>\n",
       "      <td>428.8891</td>\n",
       "      <td>17.8277</td>\n",
       "    </tr>\n",
       "    <tr>\n",
       "      <th>822</th>\n",
       "      <td>2023-04-10</td>\n",
       "      <td>430.2437</td>\n",
       "      <td>17.6069</td>\n",
       "    </tr>\n",
       "    <tr>\n",
       "      <th>823</th>\n",
       "      <td>2023-04-11</td>\n",
       "      <td>430.8804</td>\n",
       "      <td>17.6191</td>\n",
       "    </tr>\n",
       "    <tr>\n",
       "      <th>824</th>\n",
       "      <td>2023-04-12</td>\n",
       "      <td>428.7954</td>\n",
       "      <td>17.7061</td>\n",
       "    </tr>\n",
       "  </tbody>\n",
       "</table>\n",
       "<p>825 rows × 3 columns</p>\n",
       "</div>"
      ],
      "text/plain": [
       "          Date  IVOL_IMPLIED_FORWARD  IVOL_DELTA\n",
       "0   2020-01-02              325.6674     14.3385\n",
       "1   2020-01-03              323.2867     14.6881\n",
       "2   2020-01-06              323.8963     14.6475\n",
       "3   2020-01-07              323.4212     14.6017\n",
       "4   2020-01-08              325.2006     13.9187\n",
       "..         ...                   ...         ...\n",
       "820 2023-04-05              427.3373     17.8246\n",
       "821 2023-04-06              428.8891     17.8277\n",
       "822 2023-04-10              430.2437     17.6069\n",
       "823 2023-04-11              430.8804     17.6191\n",
       "824 2023-04-12              428.7954     17.7061\n",
       "\n",
       "[825 rows x 3 columns]"
      ]
     },
     "execution_count": 145,
     "metadata": {},
     "output_type": "execute_result"
    }
   ],
   "source": [
    "df2"
   ]
  },
  {
   "cell_type": "code",
   "execution_count": 146,
   "id": "948ecef8",
   "metadata": {},
   "outputs": [],
   "source": [
    "df1['Date'] = pd.to_datetime(df1['Date'])\n",
    "prc['Date'] = pd.to_datetime(prc['Date'])\n",
    "merged_df = pd.merge(df1, df2, on='Date', how='outer')\n",
    "merged_df = pd.merge(df1, prc, on='Date', how='outer')\n",
    "merged_df.drop('Instrument', axis=1, inplace=True)\n",
    "merged_df['Date'] = merged_df['Date'].dt.strftime('%Y-%m-%d')"
   ]
  },
  {
   "cell_type": "code",
   "execution_count": 147,
   "id": "3ab2c3f1",
   "metadata": {},
   "outputs": [],
   "source": [
    "merged_df.to_excel(\"merged_df.xlsx\")"
   ]
  },
  {
   "cell_type": "code",
   "execution_count": 121,
   "id": "d70c8fc8",
   "metadata": {},
   "outputs": [
    {
     "name": "stdout",
     "output_type": "stream",
     "text": [
      "Date               2022-11-21 00:00:00\n",
      "IVV_US_Equity                   396.26\n",
      "IVV_AU_Equity                   596.25\n",
      "ECRPUS_1Y_Index                   62.5\n",
      "SPXSFRCS_Index                    3931\n",
      "FDTRFTRL_Index                    3.75\n",
      "USCRWTIC_Index                   79.73\n",
      "XAU_Curncy                     1738.05\n",
      "JPYUSD_Curncy                 0.007036\n",
      "DXY_Curncy                     107.835\n",
      "VIX_Index                        22.36\n",
      "IVV_AU_split                       1.0\n",
      "AU_log_return                 0.011029\n",
      "US_log_return                -0.003829\n",
      "Name: 753, dtype: object\n"
     ]
    }
   ],
   "source": [
    "# Access the row at index 767\n",
    "row_767 = df1.iloc[753]\n",
    "\n",
    "# Print the row\n",
    "print(row_767)"
   ]
  },
  {
   "cell_type": "code",
   "execution_count": null,
   "id": "3e0853db",
   "metadata": {},
   "outputs": [],
   "source": []
  }
 ],
 "metadata": {
  "kernelspec": {
   "display_name": "Python 3 (ipykernel)",
   "language": "python",
   "name": "python3"
  },
  "language_info": {
   "codemirror_mode": {
    "name": "ipython",
    "version": 3
   },
   "file_extension": ".py",
   "mimetype": "text/x-python",
   "name": "python",
   "nbconvert_exporter": "python",
   "pygments_lexer": "ipython3",
   "version": "3.11.1"
  }
 },
 "nbformat": 4,
 "nbformat_minor": 5
}
